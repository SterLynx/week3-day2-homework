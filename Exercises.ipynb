{
 "cells": [
  {
   "cell_type": "markdown",
   "metadata": {},
   "source": [
    "#### Exercise 1 - Class Inheritance"
   ]
  },
  {
   "cell_type": "markdown",
   "metadata": {},
   "source": [
    "Create an Employee class that sets an employee's first name, last name, job title, salary, and email. The Employee class should have a class attribute for the raise amount set to 5% (1.05). Create a method that will apply the raise to an employee's salary."
   ]
  },
  {
   "cell_type": "code",
   "execution_count": null,
   "metadata": {},
   "outputs": [],
   "source": [
    "# Write the Employee Parent Class Here\n",
    "class Employee:\n",
    "    raise_amount = 1.05\n",
    "\n",
    "    def __init__(self, name, last_name, salary):\n",
    "        self.name = name\n",
    "        self.last_name = last_name\n",
    "        self.salary = salary\n",
    "        self.email = name + \".\" + last_name + \"@initech.net\"\n",
    "\n",
    "    def full_name(self):\n",
    "        return f'{self.name} {self.last_name}'\n",
    "\n",
    "    def salary_raise(self):\n",
    "        self.salary = int(self.salary * self.raise_amount)\n",
    "        print(f'Congratulations, {employee.full_name()}! Your salary has been raised to {self.salary}!')\n",
    "\n",
    "employee = Employee('John', 'Smith', 50000)\n",
    "print(employee.email)\n",
    "print(f'{employee.full_name()}\\'s salary is currently: {employee.salary}')\n",
    "employee.salary_raise()\n"
   ]
  },
  {
   "cell_type": "markdown",
   "metadata": {},
   "source": [
    "Create two more classes that inherit from the Employee class. One for Sales and one for Development. Both of these classes will have the same attributes as the Employee.<br>\n",
    "- For the Sales employees, add a phone number attribute on instantiation using the super method. \n",
    "- Create a method on the Sales class that will \"Send a Follow Up Email\". It should take in a customer name and \"send\" aka print a formatted email \"Dear *customer*, Thank you for your interest in our product. Please let me know if you have any questions. My email is *email* or my phone number is *phone number*. Thanks, *full name*\"\n",
    "- Create a method on the Development class called code that will print out \"*full name* is writing code\"."
   ]
  },
  {
   "cell_type": "code",
   "execution_count": null,
   "metadata": {},
   "outputs": [],
   "source": [
    "# Write the Sales child Class Here\n",
    "class Sales(Employee):\n",
    "    def __init__(self, name, last_name, salary, phone_number, customer_name):\n",
    "        super().__init__(name, last_name, salary)\n",
    "        self.phone_number = phone_number\n",
    "        self.customer_name = customer_name\n",
    "\n",
    "    def make_email(self):\n",
    "        print(f'Dear {self.customer_name}, thank you for your interest in our services. Please let me know if you have any questions. My email is {self.email} and my number is {self.phone_number}. Thanks, {self.full_name()}')\n",
    "\n",
    "\n",
    "employee2 = Sales('Jack', 'Richardson', 80000, '(530)-529-8768', 'John Doe')\n",
    "\n",
    "\n",
    "employee2.make_email()\n",
    "\n",
    "# Write the Development child Class Here\n",
    "class Development(Employee):\n",
    "    def __init__(self, name, last_name, salary):\n",
    "        super().__init__(name, last_name, salary)\n",
    "    def iscoding(self):\n",
    "        print(f'{self.full_name()} is coding')\n",
    "\n",
    "programmer = Development('Jackson', 'Stevenson', 80000)\n",
    "programmer.iscoding()\n"
   ]
  },
  {
   "cell_type": "markdown",
   "metadata": {},
   "source": [
    "- Create an instance of a Sales Employee with a salary of $50,000.\n",
    "- Send follow up emails to \"Mike O'Neil\" and \"Hannah Stern\"\n",
    "- Give the employee a raise and print the salary"
   ]
  },
  {
   "cell_type": "code",
   "execution_count": null,
   "metadata": {},
   "outputs": [],
   "source": [
    "sales_employee = Sales('Johnathan', 'Joestar', 50000, '(671)-562-8998', 'Mike O\\'Niel and Hannah Stern')"
   ]
  },
  {
   "cell_type": "code",
   "execution_count": null,
   "metadata": {},
   "outputs": [],
   "source": [
    "# Send follow up to Mike\n",
    "sales_employee = Sales('Johnathan', 'Joestar', 50000, '(671)-562-8998', 'Mike O\\'Niel')\n",
    "sales_employee.make_email()"
   ]
  },
  {
   "cell_type": "code",
   "execution_count": null,
   "metadata": {},
   "outputs": [],
   "source": [
    "# Send follow up to Hannah\n",
    "sales_employee = Sales('Johnathan', 'Joestar', 50000, '(671)-562-8998', 'Hannah Stern')\n",
    "sales_employee.make_email()"
   ]
  },
  {
   "cell_type": "code",
   "execution_count": null,
   "metadata": {},
   "outputs": [],
   "source": [
    "# Give the sales employee a raise\n",
    "sales_employee.salary_raise()\n",
    "print(f'Congratulations, {sales_employee.full_name()}! Your salary has been raised to {sales_employee.salary}!')"
   ]
  },
  {
   "cell_type": "markdown",
   "metadata": {},
   "source": [
    "- Create an instance of a Development Employee with a salary of $100,000\n",
    "- Write some code with this employee\n",
    "- Give the employee a raise and print the salary"
   ]
  },
  {
   "cell_type": "code",
   "execution_count": null,
   "metadata": {},
   "outputs": [],
   "source": [
    "# Create the instance\n",
    "programmer = Development('Jackson', 'Stevenson', 100000)"
   ]
  },
  {
   "cell_type": "code",
   "execution_count": null,
   "metadata": {},
   "outputs": [],
   "source": [
    "# Write some code (call code method)\n",
    "programmer.iscoding()"
   ]
  },
  {
   "cell_type": "code",
   "execution_count": null,
   "metadata": {},
   "outputs": [],
   "source": [
    "# Give the dev employee a raise\n",
    "programmer.salary_raise()\n",
    "print(f'Congratulations, {programmer.full_name()}! Your salary has been raised to {programmer.salary}!')"
   ]
  },
  {
   "cell_type": "markdown",
   "metadata": {},
   "source": [
    "#### Exercise 2 - Importing Modules"
   ]
  },
  {
   "cell_type": "markdown",
   "metadata": {},
   "source": [
    "In VS Code, create a module titled `geometry` and add two functions in there. One that will calculate the area of a circle given a radius. The second will find the hypotenuse of a right angle given the two sides. Import the module or the functions from the module and use it to find the answers to the below questions"
   ]
  },
  {
   "cell_type": "markdown",
   "metadata": {},
   "source": [
    "What is the area of a circle with a radius of 7cm?"
   ]
  },
  {
   "cell_type": "code",
   "execution_count": null,
   "metadata": {},
   "outputs": [],
   "source": []
  },
  {
   "cell_type": "markdown",
   "metadata": {},
   "source": [
    "What is the hypotenuse of a right angle with sides of 3in and 4in?"
   ]
  },
  {
   "cell_type": "code",
   "execution_count": null,
   "metadata": {},
   "outputs": [],
   "source": []
  }
 ],
 "metadata": {
  "kernelspec": {
   "display_name": "Python 3 (ipykernel)",
   "language": "python",
   "name": "python3"
  },
  "language_info": {
   "codemirror_mode": {
    "name": "ipython",
    "version": 3
   },
   "file_extension": ".py",
   "mimetype": "text/x-python",
   "name": "python",
   "nbconvert_exporter": "python",
   "pygments_lexer": "ipython3",
   "version": "3.10.9"
  }
 },
 "nbformat": 4,
 "nbformat_minor": 4
}
